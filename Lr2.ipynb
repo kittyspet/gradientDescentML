{
 "cells": [
  {
   "cell_type": "code",
   "execution_count": 1,
   "metadata": {},
   "outputs": [],
   "source": [
    "import numpy as np\n",
    "import pygmo as pg"
   ]
  },
  {
   "cell_type": "code",
   "execution_count": 2,
   "metadata": {},
   "outputs": [],
   "source": [
    "class BoothFunction:\n",
    "\n",
    "    def fitness(self, x):\n",
    "        return (x[0] + 2 * x[1] - 7) ** 2 + (2 * x[0] + [1] - 5) ** 2\n",
    "    \n",
    "    def get_name(self):\n",
    "        return \"Функция Бута\"\n",
    "    \n",
    "    def get_bounds(self):\n",
    "        return ([-10, 10], [10, 10])\n",
    "\n",
    "\n",
    "class MatyasFunction():\n",
    "  \n",
    "  def fitness(self, x):\n",
    "      return [0.26*(x[0]**2 + x[1]**2)-0.48*x[0]*x[1]]\n",
    "\n",
    "  def get_bounds(self):\n",
    "      return ([-10, -10], [10, 10])\n",
    "    \n",
    "\n",
    "  "
   ]
  },
  {
   "cell_type": "code",
   "execution_count": 3,
   "metadata": {},
   "outputs": [
    {
     "name": "stdout",
     "output_type": "stream",
     "text": [
      "Problem name: Функция Бута\n",
      "\tC++ class name: class pybind11::object\n",
      "\n",
      "\tGlobal dimension:\t\t\t2\n",
      "\tInteger dimension:\t\t\t0\n",
      "\tFitness dimension:\t\t\t1\n",
      "\tNumber of objectives:\t\t\t1\n",
      "\tEquality constraints dimension:\t\t0\n",
      "\tInequality constraints dimension:\t0\n",
      "\tLower bounds: [-10, 10]\n",
      "\tUpper bounds: [10, 10]\n",
      "\tHas batch fitness evaluation: false\n",
      "\n",
      "\tHas gradient: false\n",
      "\tUser implemented gradient sparsity: false\n",
      "\tHas hessians: false\n",
      "\tUser implemented hessians sparsity: false\n",
      "\n",
      "\tFitness evaluations: 0\n",
      "\n",
      "\tThread safety: none\n",
      "\n"
     ]
    }
   ],
   "source": [
    "problem_1 = pg.problem(BoothFunction())\n",
    "print(problem_1)"
   ]
  },
  {
   "cell_type": "code",
   "execution_count": 4,
   "metadata": {},
   "outputs": [
    {
     "name": "stdout",
     "output_type": "stream",
     "text": [
      "Problem name: <class '__main__.MatyasFunction'>\n",
      "\tC++ class name: class pybind11::object\n",
      "\n",
      "\tGlobal dimension:\t\t\t2\n",
      "\tInteger dimension:\t\t\t0\n",
      "\tFitness dimension:\t\t\t1\n",
      "\tNumber of objectives:\t\t\t1\n",
      "\tEquality constraints dimension:\t\t0\n",
      "\tInequality constraints dimension:\t0\n",
      "\tLower bounds: [-10, -10]\n",
      "\tUpper bounds: [10, 10]\n",
      "\tHas batch fitness evaluation: false\n",
      "\n",
      "\tHas gradient: false\n",
      "\tUser implemented gradient sparsity: false\n",
      "\tHas hessians: false\n",
      "\tUser implemented hessians sparsity: false\n",
      "\n",
      "\tFitness evaluations: 0\n",
      "\n",
      "\tThread safety: none\n",
      "\n"
     ]
    }
   ],
   "source": [
    "problem_2 = pg.problem(MatyasFunction())\n",
    "print(problem_2)"
   ]
  },
  {
   "cell_type": "code",
   "execution_count": 5,
   "metadata": {},
   "outputs": [
    {
     "name": "stdout",
     "output_type": "stream",
     "text": [
      "Algorithm name: DE: Differential Evolution [stochastic]\n",
      "\tC++ class name: class pagmo::de\n",
      "\n",
      "\tThread safety: basic\n",
      "\n",
      "Extra info:\n",
      "\tGenerations: 1\n",
      "\tParameter F: 0.800000\n",
      "\tParameter CR: 0.900000\n",
      "\tVariant: 2\n",
      "\tStopping xtol: 0.000001\n",
      "\tStopping ftol: 0.000001\n",
      "\tVerbosity: 0\n",
      "\tSeed: 1954121524\n"
     ]
    }
   ],
   "source": [
    "# de дифференциальная эволюция\n",
    "alg_1 = pg.algorithm(pg.de(1))\n",
    "print(alg_1)\n"
   ]
  },
  {
   "cell_type": "code",
   "execution_count": 6,
   "metadata": {},
   "outputs": [
    {
     "name": "stdout",
     "output_type": "stream",
     "text": [
      "Algorithm name: saDE: Self-adaptive Differential Evolution [stochastic]\n",
      "\tC++ class name: class pagmo::sade\n",
      "\n",
      "\tThread safety: basic\n",
      "\n",
      "Extra info:\n",
      "\tGenerations: 1\n",
      "\tVariant: 2\n",
      "\tSelf adaptation variant: 1\n",
      "\tStopping xtol: 1e-06\n",
      "\tStopping ftol: 1e-06\n",
      "\tMemory: false\n",
      "\tVerbosity: 0\n",
      "\tSeed: 1255282945\n"
     ]
    }
   ],
   "source": [
    "# sade самоадаптивное de \n",
    "alg_2 = pg.algorithm(pg.sade(1))\n",
    "print(alg_2)"
   ]
  },
  {
   "cell_type": "code",
   "execution_count": 7,
   "metadata": {},
   "outputs": [
    {
     "name": "stdout",
     "output_type": "stream",
     "text": [
      "Algorithm name: PSO: Particle Swarm Optimization [stochastic]\n",
      "\tC++ class name: class pagmo::pso\n",
      "\n",
      "\tThread safety: basic\n",
      "\n",
      "Extra info:\n",
      "\tGenerations: 1\n",
      "\tOmega: 0.7298\n",
      "\tEta1: 2.05\n",
      "\tEta2: 2.05\n",
      "\tMaximum velocity: 0.5\n",
      "\tVariant: 5\n",
      "\tTopology: 2\n",
      "\tTopology parameter: 4\n",
      "\tMemory: false\n",
      "\tSeed: 3629933950\n",
      "\tVerbosity: 0\n"
     ]
    }
   ],
   "source": [
    "# pso метод роя частиц\n",
    "alg_3 = pg.algorithm(pg.pso(1))\n",
    "print(alg_3)\n",
    "\n"
   ]
  },
  {
   "cell_type": "code",
   "execution_count": 8,
   "metadata": {},
   "outputs": [
    {
     "name": "stdout",
     "output_type": "stream",
     "text": [
      "[-0.99670107 10.        ] [180.00005441]\n"
     ]
    }
   ],
   "source": [
    "# Для функции Бута pg.be\n",
    "population_1 = pg.population(problem_1, size=100)\n",
    "population_1 = alg_1.evolve(population_1)\n",
    "v = bestv = population_1.champion_x\n",
    "f = bestf = population_1.champion_f\n",
    "print(v, f)"
   ]
  },
  {
   "cell_type": "code",
   "execution_count": 9,
   "metadata": {},
   "outputs": [
    {
     "name": "stdout",
     "output_type": "stream",
     "text": [
      "[0.0089071  0.19224713] [0.00880802]\n"
     ]
    }
   ],
   "source": [
    "# Для функции Матьяса pg.be\n",
    "population_1 = pg.population(problem_2, size=100)\n",
    "population_1 = alg_1.evolve(population_1)\n",
    "v = bestv = population_1.champion_x\n",
    "f = bestf = population_1.champion_f\n",
    "print(v, f)"
   ]
  },
  {
   "cell_type": "code",
   "execution_count": 10,
   "metadata": {},
   "outputs": [
    {
     "name": "stdout",
     "output_type": "stream",
     "text": [
      "[-0.96137338 10.        ] [180.00746008]\n"
     ]
    }
   ],
   "source": [
    "# Для функции Бута pg.sade\n",
    "population_1 = pg.population(problem_1, size=100)\n",
    "population_1 = alg_2.evolve(population_1)\n",
    "v = bestv = population_1.champion_x\n",
    "f = bestf = population_1.champion_f\n",
    "print(v, f)"
   ]
  },
  {
   "cell_type": "code",
   "execution_count": 11,
   "metadata": {},
   "outputs": [
    {
     "name": "stdout",
     "output_type": "stream",
     "text": [
      "[-1.06029343 -0.65895296] [0.06982663]\n"
     ]
    }
   ],
   "source": [
    "# Для функции Матьяса pg.sade\n",
    "population_1 = pg.population(problem_2, size=100)\n",
    "population_1 = alg_2.evolve(population_1)\n",
    "v = bestv = population_1.champion_x\n",
    "f = bestf = population_1.champion_f\n",
    "print(v, f)"
   ]
  },
  {
   "cell_type": "code",
   "execution_count": 12,
   "metadata": {},
   "outputs": [
    {
     "name": "stdout",
     "output_type": "stream",
     "text": [
      "[-0.98129532 10.        ] [180.00174933]\n"
     ]
    }
   ],
   "source": [
    "# Для функции Бута pg.pso\n",
    "population_1 = pg.population(problem_1, size=100)\n",
    "population_1 = alg_3.evolve(population_1)\n",
    "v = bestv = population_1.champion_x\n",
    "f = bestf = population_1.champion_f\n",
    "print(v, f)"
   ]
  },
  {
   "cell_type": "code",
   "execution_count": 13,
   "metadata": {},
   "outputs": [
    {
     "name": "stdout",
     "output_type": "stream",
     "text": [
      "[-0.10188497 -0.00317399] [0.00254634]\n"
     ]
    }
   ],
   "source": [
    "# Для функции Матьяса pg.pso\n",
    "population_1 = pg.population(problem_2, size=100)\n",
    "population_1 = alg_3.evolve(population_1)\n",
    "v = bestv = population_1.champion_x\n",
    "f = bestf = population_1.champion_f\n",
    "print(v, f)"
   ]
  },
  {
   "cell_type": "code",
   "execution_count": 14,
   "metadata": {},
   "outputs": [],
   "source": [
    "# Вычисление ср. кв ошибки и нахождение max_mse и min_mse \n",
    "def MSE(prob, alg, counter = 10):\n",
    "    min_v = float('inf')\n",
    "    max_v = float('-inf')\n",
    "    err = 0.0\n",
    "    \n",
    "    for _ in range(counter):\n",
    "        popul = pg.population(prob, size=100)\n",
    "        popul = alg.evolve(population_1)\n",
    "        v = popul.champion_x\n",
    "        f = popul.champion_f\n",
    "        mse = np.sum((v - np.array([1, 3])) ** 2) / v.size\n",
    "        if mse < min_v:\n",
    "            min_v = mse\n",
    "        if mse > max_v:\n",
    "            max_v = mse\n",
    "        err += mse\n",
    "\n",
    "    err /= counter\n",
    "    \n",
    "    return [err, min_v, max_v]"
   ]
  },
  {
   "cell_type": "code",
   "execution_count": 15,
   "metadata": {},
   "outputs": [
    {
     "name": "stdout",
     "output_type": "stream",
     "text": [
      "Booth alg_1 avr_err = 5.116602262367027, MIN_MSE : 5.116602262367028, MAX_MSE : 5.116602262367028\n",
      "Booth alg_2 avr_err = 5.116602262367027, MIN_MSE : 5.116602262367028, MAX_MSE : 5.116602262367028\n",
      "Booth alg_3 avr_err = 5.116602262367027, MIN_MSE : 5.116602262367028, MAX_MSE : 5.116602262367028\n"
     ]
    }
   ],
   "source": [
    "# Для Бута pg.be\n",
    "b_a1 = MSE(problem_1, alg_1)\n",
    "print(f\"Booth alg_1 avr_err = {b_a1[0]}, MIN_MSE : {b_a1[1]}, MAX_MSE : {b_a1[2]}\")\n",
    "# Для Бута pg.sade\n",
    "b_a2 = MSE(problem_1, alg_2)\n",
    "print(f\"Booth alg_2 avr_err = {b_a2[0]}, MIN_MSE : {b_a2[1]}, MAX_MSE : {b_a2[2]}\")\n",
    "# Для Бута pg.pso\n",
    "b_a3 = MSE(problem_1, alg_3)\n",
    "print(f\"Booth alg_3 avr_err = {b_a3[0]}, MIN_MSE : {b_a3[1]}, MAX_MSE : {b_a3[2]}\")\n"
   ]
  },
  {
   "cell_type": "code",
   "execution_count": 16,
   "metadata": {},
   "outputs": [
    {
     "name": "stdout",
     "output_type": "stream",
     "text": [
      "Matyas alg_1 avr_err = 5.116602262367027, MIN_MSE : 5.116602262367028, MAX_MSE : 5.116602262367028\n",
      "Matyas alg_2 avr_err = 5.116602262367027, MIN_MSE : 5.116602262367028, MAX_MSE : 5.116602262367028\n",
      "Matyas alg_3 avr_err = 5.08292771650076, MIN_MSE : 4.779856803704352, MAX_MSE : 5.116602262367028\n"
     ]
    }
   ],
   "source": [
    "# Для Матьяса pg.be\n",
    "m_a1 = MSE(problem_2, alg_1)\n",
    "print(f\"Matyas alg_1 avr_err = {m_a1[0]}, MIN_MSE : {m_a1[1]}, MAX_MSE : {m_a1[2]}\")\n",
    "# Для Матьяса pg.sade\n",
    "m_a2 = MSE(problem_2, alg_2)\n",
    "print(f\"Matyas alg_2 avr_err = {m_a2[0]}, MIN_MSE : {m_a2[1]}, MAX_MSE : {m_a2[2]}\")\n",
    "# Для Матьяса pg.pso\n",
    "m_a3 = MSE(problem_2, alg_3)\n",
    "print(f\"Matyas alg_3 avr_err = {m_a3[0]}, MIN_MSE : {m_a3[1]}, MAX_MSE : {m_a3[2]}\")"
   ]
  },
  {
   "cell_type": "code",
   "execution_count": null,
   "metadata": {},
   "outputs": [],
   "source": []
  }
 ],
 "metadata": {
  "kernelspec": {
   "display_name": "base",
   "language": "python",
   "name": "python3"
  },
  "language_info": {
   "codemirror_mode": {
    "name": "ipython",
    "version": 3
   },
   "file_extension": ".py",
   "mimetype": "text/x-python",
   "name": "python",
   "nbconvert_exporter": "python",
   "pygments_lexer": "ipython3",
   "version": "3.11.7"
  }
 },
 "nbformat": 4,
 "nbformat_minor": 2
}
